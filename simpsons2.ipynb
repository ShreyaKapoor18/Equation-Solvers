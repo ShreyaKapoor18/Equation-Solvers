{
 "cells": [
  {
   "cell_type": "code",
   "execution_count": 1,
   "metadata": {
    "collapsed": true
   },
   "outputs": [],
   "source": [
    "import math"
   ]
  },
  {
   "cell_type": "code",
   "execution_count": 3,
   "metadata": {
    "collapsed": false
   },
   "outputs": [],
   "source": [
    "#simpsons integration method"
   ]
  },
  {
   "cell_type": "code",
   "execution_count": 12,
   "metadata": {
    "collapsed": false
   },
   "outputs": [
    {
     "name": "stdout",
     "output_type": "stream",
     "text": [
      "for the function x^2+2x^3\n",
      "enter the lower limit1\n",
      "enter the upper limit2\n",
      "3.0\n",
      "11.0540559328\n",
      "0.001001001001\n"
     ]
    }
   ],
   "source": [
    "print ('for the function x^2+2x^3')\n",
    "def f(x): \n",
    "    return x**2+2*x**3\n",
    "x1=input('enter the lower limit')\n",
    "x2=input('enter the upper limit')\n",
    "n=999\n",
    "sum=0\n",
    "h=float(x2-x1)/n \n",
    "for i in range(0,n): \n",
    "    if i==0: \n",
    "        sum=sum+f(x1+i*h)\n",
    "        print sum\n",
    "    if (i%3==0 & i!=0):\n",
    "        sum=sum+2*f(x1+i*h)\n",
    "    else: \n",
    "        sum=sum+3*f(x1+i*h)\n",
    "sum=(3*h*sum)/8 \n",
    "print (sum)\n",
    "print h"
   ]
  },
  {
   "cell_type": "code",
   "execution_count": null,
   "metadata": {
    "collapsed": true
   },
   "outputs": [],
   "source": []
  }
 ],
 "metadata": {
  "anaconda-cloud": {},
  "kernelspec": {
   "display_name": "Python [conda root]",
   "language": "python",
   "name": "conda-root-py"
  },
  "language_info": {
   "codemirror_mode": {
    "name": "ipython",
    "version": 2
   },
   "file_extension": ".py",
   "mimetype": "text/x-python",
   "name": "python",
   "nbconvert_exporter": "python",
   "pygments_lexer": "ipython2",
   "version": "2.7.12"
  }
 },
 "nbformat": 4,
 "nbformat_minor": 1
}
