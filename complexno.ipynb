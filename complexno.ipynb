{
 "cells": [
  {
   "cell_type": "code",
   "execution_count": 2,
   "metadata": {
    "collapsed": false
   },
   "outputs": [
    {
     "name": "stdout",
     "output_type": "stream",
     "text": [
      "Real Part of 1 \n"
     ]
    },
    {
     "ename": "SyntaxError",
     "evalue": "unexpected EOF while parsing (<string>, line 0)",
     "output_type": "error",
     "traceback": [
      "\u001b[0;36m  File \u001b[0;32m\"<string>\"\u001b[0;36m, line \u001b[0;32munknown\u001b[0m\n\u001b[0;31m    \u001b[0m\n\u001b[0m    ^\u001b[0m\n\u001b[0;31mSyntaxError\u001b[0m\u001b[0;31m:\u001b[0m unexpected EOF while parsing\n"
     ]
    }
   ],
   "source": [
    "import math\n",
    "x1=input('Real Part of 1 ')\n",
    "x2=input('Real Part of 2 ')\n",
    "y1=input('Imaginary 1 ')\n",
    "y2=input('Imaginary 3 ')\n",
    "x3=x1+x2\n",
    "y3=y1+y2\n",
    "print(x3,y3)"
   ]
  },
  {
   "cell_type": "code",
   "execution_count": 8,
   "metadata": {
    "collapsed": false
   },
   "outputs": [
    {
     "name": "stdout",
     "output_type": "stream",
     "text": [
      "z=x+iy\n",
      "Enter the real part1\n",
      "Enter the imaginary part1\n",
      "N3\n",
      "0.785398163397\n",
      "is the angle\n",
      "[[ 0.96592583  1.        ]\n",
      " [-0.70710678  1.        ]\n",
      " [-0.25881905  1.        ]]\n",
      "represents nth roots of unity\n"
     ]
    }
   ],
   "source": [
    "import numpy as np\n",
    "print('z=x+iy')\n",
    "z=np.array([0,0])\n",
    "z[0]=input('Enter the real part')\n",
    "z[1]=input('Enter the imaginary part')\n",
    "mag=np.sqrt(z[0]**2+z[1]**2)\n",
    "n=input('N')\n",
    "cos=z[0]/mag\n",
    "theta=math.acos(cos)\n",
    "x=np.zeros(shape=(n,2))\n",
    "for i in range(0,n): \n",
    "    phi=(2*np.pi*i+theta)/n \n",
    "    x[i][0]=mag**(1/n)*np.cos(phi)\n",
    "    x[i][1]=mag**(1/n)\n",
    "print theta\n",
    "print('is the angle')\n",
    "print x\n",
    "print('represents nth roots of unity')"
   ]
  },
  {
   "cell_type": "code",
   "execution_count": null,
   "metadata": {
    "collapsed": true
   },
   "outputs": [],
   "source": []
  }
 ],
 "metadata": {
  "anaconda-cloud": {},
  "kernelspec": {
   "display_name": "Python [conda root]",
   "language": "python",
   "name": "conda-root-py"
  },
  "language_info": {
   "codemirror_mode": {
    "name": "ipython",
    "version": 2
   },
   "file_extension": ".py",
   "mimetype": "text/x-python",
   "name": "python",
   "nbconvert_exporter": "python",
   "pygments_lexer": "ipython2",
   "version": "2.7.12"
  }
 },
 "nbformat": 4,
 "nbformat_minor": 1
}
